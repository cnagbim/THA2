{
  "nbformat": 4,
  "nbformat_minor": 0,
  "metadata": {
    "colab": {
      "name": "Assignment1_DataMgmt_Agbim.ipynb",
      "version": "0.3.2",
      "provenance": [],
      "collapsed_sections": [],
      "include_colab_link": true
    },
    "kernelspec": {
      "name": "python3",
      "display_name": "Python 3"
    }
  },
  "cells": [
    {
      "cell_type": "markdown",
      "metadata": {
        "id": "view-in-github",
        "colab_type": "text"
      },
      "source": [
        "<a href=\"https://colab.research.google.com/github/cnagbim/THA2/blob/master/Assignment1_DataMgmt_Agbim.ipynb\" target=\"_parent\"><img src=\"https://colab.research.google.com/assets/colab-badge.svg\" alt=\"Open In Colab\"/></a>"
      ]
    },
    {
      "metadata": {
        "id": "0ksAJ2YE2bjw",
        "colab_type": "text"
      },
      "cell_type": "markdown",
      "source": [
        "This code merges two datasets in order to understand the relationship between geography and socio-demogrphic indicators. \n",
        "\n",
        "The first dataset is an edited subset of a spreadsheet I use in my research. My research focuses on energy burden in Texas. The first dataset is the percentage of individuals in a given county that said they had difficulty paying their electricity bill. The second dataset is a county level poverty dataset from the U.S. Census Bureau. It is the percentage of individuals in poverty in each Texas county.\n",
        "\n",
        "Step 1) Download the 2017 county poverty dataset from U.S census website\n",
        "*The datasets are included with the submission of for brevity\n",
        "\n"
      ]
    },
    {
      "metadata": {
        "id": "KC1Py5MvtPQx",
        "colab_type": "text"
      },
      "cell_type": "markdown",
      "source": [
        "Step 2) Upload dataset files to colaboratoty or notebook. \n",
        "Upload:\n",
        "<< cnty_energybillburden_percent_yes_agbim.csv>> \n",
        "and <<TX_county_percentage_pov_agbim.csv>>\n"
      ]
    },
    {
      "metadata": {
        "id": "I7K1MQk6t7M8",
        "colab_type": "text"
      },
      "cell_type": "markdown",
      "source": [
        "Step 3) Import pandas package and read files into data frames. Then check data looks the same by using the print() function."
      ]
    },
    {
      "metadata": {
        "id": "GI5XDJiPprGU",
        "colab_type": "code",
        "outputId": "376df7db-f4e8-4292-cbab-8dea105b0297",
        "colab": {
          "base_uri": "https://localhost:8080/",
          "height": 391
        }
      },
      "cell_type": "code",
      "source": [
        "#Import panda before reading in spreadsheets\n",
        "\n",
        "import pandas as pd\n",
        "#read in files and save them as dataframes\n",
        "cnty_energy_burden=pd.read_csv(\"cnty_energybillburden_percent_yes_agbim.csv\")\n",
        "print(cnty_energy_burden.head(10))\n",
        "cnty_poverty=pd.read_csv(\"TX_county_percentage_pov_agbim.csv\")\n",
        "print(cnty_poverty.head(10))\n"
      ],
      "execution_count": 0,
      "outputs": [
        {
          "output_type": "stream",
          "text": [
            "       FullCNTYNAME  CNTY_IDS  Cnty_EDiffPercent\n",
            "0   Anderson County   48001.0           0.000000\n",
            "1    Andrews County   48003.0           1.000000\n",
            "2   Angelina County   48005.0           0.571429\n",
            "3    Aransas County   48007.0           0.333333\n",
            "4     Archer County   48009.0           0.333333\n",
            "5  Armstrong County   48011.0                NaN\n",
            "6   Atascosa County   48013.0           0.250000\n",
            "7     Austin County   48015.0                NaN\n",
            "8     Bailey County   48017.0                NaN\n",
            "9    Bandera County   48019.0           0.400000\n",
            "   CountyID            CountyNames  AllAgesPovertyPercent\n",
            "0         0          United States                   13.4\n",
            "1     48000                  Texas                   14.7\n",
            "2     48001   Anderson County (TX)                   18.8\n",
            "3     48003    Andrews County (TX)                   13.0\n",
            "4     48005   Angelina County (TX)                   20.0\n",
            "5     48007    Aransas County (TX)                   18.1\n",
            "6     48009     Archer County (TX)                   10.1\n",
            "7     48011  Armstrong County (TX)                   10.6\n",
            "8     48013   Atascosa County (TX)                   16.9\n",
            "9     48015     Austin County (TX)                   10.7\n"
          ],
          "name": "stdout"
        }
      ]
    },
    {
      "metadata": {
        "id": "IdTs3CHuKCFi",
        "colab_type": "text"
      },
      "cell_type": "markdown",
      "source": [
        "Step 4) We will want to merge the datasets by county ID. However, first we need to turn the countyID column in each dataset into same datatype. We will use float i.e. float64"
      ]
    },
    {
      "metadata": {
        "id": "_FcQyKmpK88J",
        "colab_type": "code",
        "outputId": "fdb1c6ac-68ab-4220-e9a2-0634b9868142",
        "colab": {
          "base_uri": "https://localhost:8080/",
          "height": 425
        }
      },
      "cell_type": "code",
      "source": [
        "#import numpy package. We will need it for converting values\n",
        "import numpy as np\n",
        "#check what data types are available in cnty_energy_burden\n",
        "cnty_energy_burden.info()\n",
        "#check what data types are available in cnty_poverty\n",
        "cnty_poverty.info()\n",
        "#turning county id into float\n",
        "cnty_poverty[\"CountyID\"]=cnty_poverty[\"CountyID\"].astype(dtype=np.float64)\n",
        "#check type again\n",
        "cnty_poverty.info()"
      ],
      "execution_count": 0,
      "outputs": [
        {
          "output_type": "stream",
          "text": [
            "<class 'pandas.core.frame.DataFrame'>\n",
            "RangeIndex: 3185 entries, 0 to 3184\n",
            "Data columns (total 3 columns):\n",
            "FullCNTYNAME         254 non-null object\n",
            "CNTY_IDS             254 non-null float64\n",
            "Cnty_EDiffPercent    163 non-null float64\n",
            "dtypes: float64(2), object(1)\n",
            "memory usage: 74.7+ KB\n",
            "<class 'pandas.core.frame.DataFrame'>\n",
            "RangeIndex: 256 entries, 0 to 255\n",
            "Data columns (total 3 columns):\n",
            "CountyID                 256 non-null float64\n",
            "CountyNames              256 non-null object\n",
            "AllAgesPovertyPercent    256 non-null float64\n",
            "dtypes: float64(2), object(1)\n",
            "memory usage: 6.1+ KB\n",
            "<class 'pandas.core.frame.DataFrame'>\n",
            "RangeIndex: 256 entries, 0 to 255\n",
            "Data columns (total 3 columns):\n",
            "CountyID                 256 non-null float64\n",
            "CountyNames              256 non-null object\n",
            "AllAgesPovertyPercent    256 non-null float64\n",
            "dtypes: float64(2), object(1)\n",
            "memory usage: 6.1+ KB\n"
          ],
          "name": "stdout"
        }
      ]
    },
    {
      "metadata": {
        "id": "_EGZ2Hy3It8C",
        "colab_type": "text"
      },
      "cell_type": "markdown",
      "source": [
        "Step 5) Merge data using the census given county ids"
      ]
    },
    {
      "metadata": {
        "id": "45PVMzPuUzVs",
        "colab_type": "text"
      },
      "cell_type": "markdown",
      "source": [
        ""
      ]
    },
    {
      "metadata": {
        "id": "QVmkN29eJKyU",
        "colab_type": "code",
        "outputId": "42a08ba2-46d8-4955-a56e-a36a309e4583",
        "colab": {
          "base_uri": "https://localhost:8080/",
          "height": 2176
        }
      },
      "cell_type": "code",
      "source": [
        "#left_on is the county column name for cnty_energy_burden and right_on is the column name for cnty_poverty.\n",
        "#Inner tells us that we only want to carry observations with county matches\n",
        "cnty_energy_burd_pov=cnty_energy_burden.merge(cnty_poverty, left_on=\"CNTY_IDS\", right_on=\"CountyID\", how=\"inner\")\n",
        "#print data to ensure the data merged properly\n",
        "print(cnty_energy_burd_pov)"
      ],
      "execution_count": 0,
      "outputs": [
        {
          "output_type": "stream",
          "text": [
            "          FullCNTYNAME  CNTY_IDS  Cnty_EDiffPercent  CountyID  \\\n",
            "0      Anderson County   48001.0           0.000000   48001.0   \n",
            "1       Andrews County   48003.0           1.000000   48003.0   \n",
            "2      Angelina County   48005.0           0.571429   48005.0   \n",
            "3       Aransas County   48007.0           0.333333   48007.0   \n",
            "4        Archer County   48009.0           0.333333   48009.0   \n",
            "5     Armstrong County   48011.0                NaN   48011.0   \n",
            "6      Atascosa County   48013.0           0.250000   48013.0   \n",
            "7        Austin County   48015.0                NaN   48015.0   \n",
            "8        Bailey County   48017.0                NaN   48017.0   \n",
            "9       Bandera County   48019.0           0.400000   48019.0   \n",
            "10      Bastrop County   48021.0           0.500000   48021.0   \n",
            "11       Baylor County   48023.0           0.000000   48023.0   \n",
            "12          Bee County   48025.0           0.750000   48025.0   \n",
            "13         Bell County   48027.0           0.304348   48027.0   \n",
            "14        Bexar County   48029.0           0.372807   48029.0   \n",
            "15       Blanco County   48031.0           0.166667   48031.0   \n",
            "16       Borden County   48033.0           0.000000   48033.0   \n",
            "17       Bosque County   48035.0           1.000000   48035.0   \n",
            "18        Bowie County   48037.0           0.600000   48037.0   \n",
            "19     Brazoria County   48039.0           0.125000   48039.0   \n",
            "20       Brazos County   48041.0           0.333333   48041.0   \n",
            "21     Brewster County   48043.0           0.000000   48043.0   \n",
            "22      Briscoe County   48045.0                NaN   48045.0   \n",
            "23       Brooks County   48047.0                NaN   48047.0   \n",
            "24        Brown County   48049.0           0.333333   48049.0   \n",
            "25     Burleson County   48051.0                NaN   48051.0   \n",
            "26       Burnet County   48053.0           0.666667   48053.0   \n",
            "27     Caldwell County   48055.0           0.250000   48055.0   \n",
            "28      Calhoun County   48057.0                NaN   48057.0   \n",
            "29     Callahan County   48059.0           0.500000   48059.0   \n",
            "..                 ...       ...                ...       ...   \n",
            "224       Titus County   48449.0           1.000000   48449.0   \n",
            "225   Tom Green County   48451.0           0.307692   48451.0   \n",
            "226      Travis County   48453.0           0.260274   48453.0   \n",
            "227     Trinity County   48455.0                NaN   48455.0   \n",
            "228       Tyler County   48457.0           0.000000   48457.0   \n",
            "229      Upshur County   48459.0                NaN   48459.0   \n",
            "230       Upton County   48461.0           0.000000   48461.0   \n",
            "231      Uvalde County   48463.0           0.500000   48463.0   \n",
            "232   Val Verde County   48465.0                NaN   48465.0   \n",
            "233   Van Zandt County   48467.0           0.500000   48467.0   \n",
            "234    Victoria County   48469.0           0.600000   48469.0   \n",
            "235      Walker County   48471.0           0.666667   48471.0   \n",
            "236      Waller County   48473.0                NaN   48473.0   \n",
            "237        Ward County   48475.0           0.666667   48475.0   \n",
            "238  Washington County   48477.0           0.000000   48477.0   \n",
            "239        Webb County   48479.0           0.300000   48479.0   \n",
            "240     Wharton County   48481.0           0.000000   48481.0   \n",
            "241     Wheeler County   48483.0           1.000000   48483.0   \n",
            "242     Wichita County   48485.0           0.285714   48485.0   \n",
            "243   Wilbarger County   48487.0           1.000000   48487.0   \n",
            "244     Willacy County   48489.0           0.000000   48489.0   \n",
            "245  Williamson County   48491.0           0.400000   48491.0   \n",
            "246      Wilson County   48493.0                NaN   48493.0   \n",
            "247     Winkler County   48495.0           1.000000   48495.0   \n",
            "248        Wise County   48497.0                NaN   48497.0   \n",
            "249        Wood County   48499.0                NaN   48499.0   \n",
            "250      Yoakum County   48501.0                NaN   48501.0   \n",
            "251       Young County   48503.0                NaN   48503.0   \n",
            "252      Zapata County   48505.0           0.666667   48505.0   \n",
            "253      Zavala County   48507.0           1.000000   48507.0   \n",
            "\n",
            "                CountyNames  AllAgesPovertyPercent  \n",
            "0      Anderson County (TX)                   18.8  \n",
            "1       Andrews County (TX)                   13.0  \n",
            "2      Angelina County (TX)                   20.0  \n",
            "3       Aransas County (TX)                   18.1  \n",
            "4        Archer County (TX)                   10.1  \n",
            "5     Armstrong County (TX)                   10.6  \n",
            "6      Atascosa County (TX)                   16.9  \n",
            "7        Austin County (TX)                   10.7  \n",
            "8        Bailey County (TX)                   17.2  \n",
            "9       Bandera County (TX)                   11.9  \n",
            "10      Bastrop County (TX)                   11.5  \n",
            "11       Baylor County (TX)                   17.7  \n",
            "12          Bee County (TX)                   26.6  \n",
            "13         Bell County (TX)                   13.8  \n",
            "14        Bexar County (TX)                   15.6  \n",
            "15       Blanco County (TX)                   10.6  \n",
            "16       Borden County (TX)                   11.0  \n",
            "17       Bosque County (TX)                   16.0  \n",
            "18        Bowie County (TX)                   15.9  \n",
            "19     Brazoria County (TX)                    9.0  \n",
            "20       Brazos County (TX)                   23.9  \n",
            "21     Brewster County (TX)                   14.0  \n",
            "22      Briscoe County (TX)                   15.3  \n",
            "23       Brooks County (TX)                   35.0  \n",
            "24        Brown County (TX)                   16.8  \n",
            "25     Burleson County (TX)                   16.6  \n",
            "26       Burnet County (TX)                   10.4  \n",
            "27     Caldwell County (TX)                   14.5  \n",
            "28      Calhoun County (TX)                   16.3  \n",
            "29     Callahan County (TX)                   14.0  \n",
            "..                      ...                    ...  \n",
            "224       Titus County (TX)                   16.3  \n",
            "225   Tom Green County (TX)                   13.5  \n",
            "226      Travis County (TX)                   11.5  \n",
            "227     Trinity County (TX)                   21.0  \n",
            "228       Tyler County (TX)                   19.6  \n",
            "229      Upshur County (TX)                   16.4  \n",
            "230       Upton County (TX)                   14.0  \n",
            "231      Uvalde County (TX)                   20.5  \n",
            "232   Val Verde County (TX)                   21.4  \n",
            "233   Van Zandt County (TX)                   13.1  \n",
            "234    Victoria County (TX)                   15.7  \n",
            "235      Walker County (TX)                   23.1  \n",
            "236      Waller County (TX)                   15.5  \n",
            "237        Ward County (TX)                   15.1  \n",
            "238  Washington County (TX)                   12.9  \n",
            "239        Webb County (TX)                   27.3  \n",
            "240     Wharton County (TX)                   16.0  \n",
            "241     Wheeler County (TX)                   14.5  \n",
            "242     Wichita County (TX)                   16.8  \n",
            "243   Wilbarger County (TX)                   16.4  \n",
            "244     Willacy County (TX)                   35.0  \n",
            "245  Williamson County (TX)                    6.1  \n",
            "246      Wilson County (TX)                    9.1  \n",
            "247     Winkler County (TX)                   14.7  \n",
            "248        Wise County (TX)                   11.1  \n",
            "249        Wood County (TX)                   15.2  \n",
            "250      Yoakum County (TX)                   12.0  \n",
            "251       Young County (TX)                   15.8  \n",
            "252      Zapata County (TX)                   30.0  \n",
            "253      Zavala County (TX)                   31.6  \n",
            "\n",
            "[254 rows x 6 columns]\n"
          ],
          "name": "stdout"
        }
      ]
    }
  ]
}